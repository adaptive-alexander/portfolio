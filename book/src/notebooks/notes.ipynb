{
 "cells": [
  {
   "cell_type": "markdown",
   "source": [
    "# Options Repository\n",
    "\n",
    "The options repository is a back-end for financial American options. It uses Black-Scholes-Merton\n",
    "as a pricing model. The structure can easily plug-and-play another pricing model by simply\n",
    "adding new methods to the struct. The library is prepared to be easy to compute in parallel\n",
    "using `rayon`. The csv writer method expects chunked options (`Vec<Options>` from rayon) but\n",
    "recombines and writes the `Vec` into a single file using a `buf_writer` (buffered writer).\n",
    "\n",
    "## Black-Scholes-Merton Options Pricing Model\n",
    "\n",
    "The BSM mathematics*:\n",
    "\n",
    "$ Call = S e^{-qt} N (d_1) - K e^{-rt} N(d_2)$<br>\n",
    "$ Put = K e^{-rt} N (-d_2) - S e^{-qt} N(-d1)$<br>\n",
    "$Greeks:$<br>\n",
    "$\\Delta_C = e^{-qt}N(d_1)$\n",
    "$\\Delta_P = e^{-qt}(N(d_1) - 1)$ <br>\n",
    "$\\Gamma = \\frac{e^{-qt}}{S\\sigma\\sqrt{t}}N^\\prime(d_1)$ <br>\n",
    "$\\Theta_C = \\frac{1}{T}\\left(-\\left(\\frac{S\\sigma e^{-qt}}{2\\sqrt{t}}N^\\prime(d_1)\\right) - rKe^{-rt}N(d_2) + qSe^{-qt}N(d_1)\\right)$\n",
    "$\\Theta_P = \\frac{1}{T}\\left(-\\left(\\frac{S\\sigma e^{-qt}}{2\\sqrt{t}}N^\\prime(d_1)\\right) + rKe^{-rt}N(-d_2) - qSe^{-qt}N(-d_1)\\right)$ <br>\n",
    "$V = \\frac{1}{100} Se^{-qt} \\sqrt{t}N^\\prime(d_1)$ <br>\n",
    "$\\Rho_C = \\frac{1}{100}Kte^{-rt}N(d_2)$\n",
    "$\\Rho_P = -\\frac{1}{100}Kte^{-rt}N(-d_2)$ <br>\n",
    "$where:$\n",
    "$N(x) = \\frac{1}{\\sqrt{2\\pi}}\\int_{-\\infty}^x e ^{\\frac{-t^2}{2}} dt$ // normal cumulative distribution function<br>\n",
    "$N^\\prime(x) = \\frac{1}{\\sqrt{2\\pi}} e^{\\frac{-x^2}{2}}$ // normal probability density function<br>\n",
    "$d_1 = \\frac{ln \\frac{S}{K} + t(r - q + \\frac{\\sigma^2}{2})}{\\sigma \\sqrt{t}}$<br>\n",
    "$d_2 = d_1 - \\sigma \\sqrt{t}$ <br>\n",
    "$S = price \\ of \\ underlying$\n",
    "$K = strike$\n",
    "$r = risk \\ free \\ rate$\n",
    "$t = duration \\ in \\ years$\n",
    "$T = number \\ of \\ days \\ in \\ year$\n",
    "$q = dividends$\n",
    "\n",
    "\\* expanded formulas used assume continuous dividends.\n"
   ],
   "metadata": {
    "collapsed": false
   }
  }
 ],
 "metadata": {
  "kernelspec": {
   "display_name": "Python 3",
   "language": "python",
   "name": "python3"
  },
  "language_info": {
   "codemirror_mode": {
    "name": "ipython",
    "version": 2
   },
   "file_extension": ".py",
   "mimetype": "text/x-python",
   "name": "python",
   "nbconvert_exporter": "python",
   "pygments_lexer": "ipython2",
   "version": "2.7.6"
  }
 },
 "nbformat": 4,
 "nbformat_minor": 0
}
